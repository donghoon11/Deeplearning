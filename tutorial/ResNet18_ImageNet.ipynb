{
  "nbformat": 4,
  "nbformat_minor": 0,
  "metadata": {
    "colab": {
      "name": "ResNet18_ImageNet.ipynb",
      "provenance": []
    },
    "kernelspec": {
      "name": "python3",
      "display_name": "Python 3"
    },
    "language_info": {
      "name": "python"
    },
    "accelerator": "GPU",
    "gpuClass": "standard",
    "widgets": {
      "application/vnd.jupyter.widget-state+json": {
        "e466cb4518894bea9a78b03610d84105": {
          "model_module": "@jupyter-widgets/controls",
          "model_name": "HBoxModel",
          "model_module_version": "1.5.0",
          "state": {
            "_dom_classes": [],
            "_model_module": "@jupyter-widgets/controls",
            "_model_module_version": "1.5.0",
            "_model_name": "HBoxModel",
            "_view_count": null,
            "_view_module": "@jupyter-widgets/controls",
            "_view_module_version": "1.5.0",
            "_view_name": "HBoxView",
            "box_style": "",
            "children": [
              "IPY_MODEL_ffc1c94eee854f7b91a933c35474b12b",
              "IPY_MODEL_e2f7d45686334b2dafabb48f807006d7",
              "IPY_MODEL_236d18cad3464143b7a9d2cb214ac88a"
            ],
            "layout": "IPY_MODEL_0ed408cf117143c29a6380835728e451"
          }
        },
        "ffc1c94eee854f7b91a933c35474b12b": {
          "model_module": "@jupyter-widgets/controls",
          "model_name": "HTMLModel",
          "model_module_version": "1.5.0",
          "state": {
            "_dom_classes": [],
            "_model_module": "@jupyter-widgets/controls",
            "_model_module_version": "1.5.0",
            "_model_name": "HTMLModel",
            "_view_count": null,
            "_view_module": "@jupyter-widgets/controls",
            "_view_module_version": "1.5.0",
            "_view_name": "HTMLView",
            "description": "",
            "description_tooltip": null,
            "layout": "IPY_MODEL_fe23a0801d224961b816984551c505a3",
            "placeholder": "​",
            "style": "IPY_MODEL_6d2efcd551364462803b37f35727a9eb",
            "value": "100%"
          }
        },
        "e2f7d45686334b2dafabb48f807006d7": {
          "model_module": "@jupyter-widgets/controls",
          "model_name": "FloatProgressModel",
          "model_module_version": "1.5.0",
          "state": {
            "_dom_classes": [],
            "_model_module": "@jupyter-widgets/controls",
            "_model_module_version": "1.5.0",
            "_model_name": "FloatProgressModel",
            "_view_count": null,
            "_view_module": "@jupyter-widgets/controls",
            "_view_module_version": "1.5.0",
            "_view_name": "ProgressView",
            "bar_style": "success",
            "description": "",
            "description_tooltip": null,
            "layout": "IPY_MODEL_b8c61c8b8f0c4d5284530fe2ad73c355",
            "max": 46830571,
            "min": 0,
            "orientation": "horizontal",
            "style": "IPY_MODEL_eaac7d693af542e2984e3c3e4d91c773",
            "value": 46830571
          }
        },
        "236d18cad3464143b7a9d2cb214ac88a": {
          "model_module": "@jupyter-widgets/controls",
          "model_name": "HTMLModel",
          "model_module_version": "1.5.0",
          "state": {
            "_dom_classes": [],
            "_model_module": "@jupyter-widgets/controls",
            "_model_module_version": "1.5.0",
            "_model_name": "HTMLModel",
            "_view_count": null,
            "_view_module": "@jupyter-widgets/controls",
            "_view_module_version": "1.5.0",
            "_view_name": "HTMLView",
            "description": "",
            "description_tooltip": null,
            "layout": "IPY_MODEL_a672530f14f84b7485addd548b278ded",
            "placeholder": "​",
            "style": "IPY_MODEL_ab146f68cc294f45ae18c13828ea6461",
            "value": " 44.7M/44.7M [00:00&lt;00:00, 96.9MB/s]"
          }
        },
        "0ed408cf117143c29a6380835728e451": {
          "model_module": "@jupyter-widgets/base",
          "model_name": "LayoutModel",
          "model_module_version": "1.2.0",
          "state": {
            "_model_module": "@jupyter-widgets/base",
            "_model_module_version": "1.2.0",
            "_model_name": "LayoutModel",
            "_view_count": null,
            "_view_module": "@jupyter-widgets/base",
            "_view_module_version": "1.2.0",
            "_view_name": "LayoutView",
            "align_content": null,
            "align_items": null,
            "align_self": null,
            "border": null,
            "bottom": null,
            "display": null,
            "flex": null,
            "flex_flow": null,
            "grid_area": null,
            "grid_auto_columns": null,
            "grid_auto_flow": null,
            "grid_auto_rows": null,
            "grid_column": null,
            "grid_gap": null,
            "grid_row": null,
            "grid_template_areas": null,
            "grid_template_columns": null,
            "grid_template_rows": null,
            "height": null,
            "justify_content": null,
            "justify_items": null,
            "left": null,
            "margin": null,
            "max_height": null,
            "max_width": null,
            "min_height": null,
            "min_width": null,
            "object_fit": null,
            "object_position": null,
            "order": null,
            "overflow": null,
            "overflow_x": null,
            "overflow_y": null,
            "padding": null,
            "right": null,
            "top": null,
            "visibility": null,
            "width": null
          }
        },
        "fe23a0801d224961b816984551c505a3": {
          "model_module": "@jupyter-widgets/base",
          "model_name": "LayoutModel",
          "model_module_version": "1.2.0",
          "state": {
            "_model_module": "@jupyter-widgets/base",
            "_model_module_version": "1.2.0",
            "_model_name": "LayoutModel",
            "_view_count": null,
            "_view_module": "@jupyter-widgets/base",
            "_view_module_version": "1.2.0",
            "_view_name": "LayoutView",
            "align_content": null,
            "align_items": null,
            "align_self": null,
            "border": null,
            "bottom": null,
            "display": null,
            "flex": null,
            "flex_flow": null,
            "grid_area": null,
            "grid_auto_columns": null,
            "grid_auto_flow": null,
            "grid_auto_rows": null,
            "grid_column": null,
            "grid_gap": null,
            "grid_row": null,
            "grid_template_areas": null,
            "grid_template_columns": null,
            "grid_template_rows": null,
            "height": null,
            "justify_content": null,
            "justify_items": null,
            "left": null,
            "margin": null,
            "max_height": null,
            "max_width": null,
            "min_height": null,
            "min_width": null,
            "object_fit": null,
            "object_position": null,
            "order": null,
            "overflow": null,
            "overflow_x": null,
            "overflow_y": null,
            "padding": null,
            "right": null,
            "top": null,
            "visibility": null,
            "width": null
          }
        },
        "6d2efcd551364462803b37f35727a9eb": {
          "model_module": "@jupyter-widgets/controls",
          "model_name": "DescriptionStyleModel",
          "model_module_version": "1.5.0",
          "state": {
            "_model_module": "@jupyter-widgets/controls",
            "_model_module_version": "1.5.0",
            "_model_name": "DescriptionStyleModel",
            "_view_count": null,
            "_view_module": "@jupyter-widgets/base",
            "_view_module_version": "1.2.0",
            "_view_name": "StyleView",
            "description_width": ""
          }
        },
        "b8c61c8b8f0c4d5284530fe2ad73c355": {
          "model_module": "@jupyter-widgets/base",
          "model_name": "LayoutModel",
          "model_module_version": "1.2.0",
          "state": {
            "_model_module": "@jupyter-widgets/base",
            "_model_module_version": "1.2.0",
            "_model_name": "LayoutModel",
            "_view_count": null,
            "_view_module": "@jupyter-widgets/base",
            "_view_module_version": "1.2.0",
            "_view_name": "LayoutView",
            "align_content": null,
            "align_items": null,
            "align_self": null,
            "border": null,
            "bottom": null,
            "display": null,
            "flex": null,
            "flex_flow": null,
            "grid_area": null,
            "grid_auto_columns": null,
            "grid_auto_flow": null,
            "grid_auto_rows": null,
            "grid_column": null,
            "grid_gap": null,
            "grid_row": null,
            "grid_template_areas": null,
            "grid_template_columns": null,
            "grid_template_rows": null,
            "height": null,
            "justify_content": null,
            "justify_items": null,
            "left": null,
            "margin": null,
            "max_height": null,
            "max_width": null,
            "min_height": null,
            "min_width": null,
            "object_fit": null,
            "object_position": null,
            "order": null,
            "overflow": null,
            "overflow_x": null,
            "overflow_y": null,
            "padding": null,
            "right": null,
            "top": null,
            "visibility": null,
            "width": null
          }
        },
        "eaac7d693af542e2984e3c3e4d91c773": {
          "model_module": "@jupyter-widgets/controls",
          "model_name": "ProgressStyleModel",
          "model_module_version": "1.5.0",
          "state": {
            "_model_module": "@jupyter-widgets/controls",
            "_model_module_version": "1.5.0",
            "_model_name": "ProgressStyleModel",
            "_view_count": null,
            "_view_module": "@jupyter-widgets/base",
            "_view_module_version": "1.2.0",
            "_view_name": "StyleView",
            "bar_color": null,
            "description_width": ""
          }
        },
        "a672530f14f84b7485addd548b278ded": {
          "model_module": "@jupyter-widgets/base",
          "model_name": "LayoutModel",
          "model_module_version": "1.2.0",
          "state": {
            "_model_module": "@jupyter-widgets/base",
            "_model_module_version": "1.2.0",
            "_model_name": "LayoutModel",
            "_view_count": null,
            "_view_module": "@jupyter-widgets/base",
            "_view_module_version": "1.2.0",
            "_view_name": "LayoutView",
            "align_content": null,
            "align_items": null,
            "align_self": null,
            "border": null,
            "bottom": null,
            "display": null,
            "flex": null,
            "flex_flow": null,
            "grid_area": null,
            "grid_auto_columns": null,
            "grid_auto_flow": null,
            "grid_auto_rows": null,
            "grid_column": null,
            "grid_gap": null,
            "grid_row": null,
            "grid_template_areas": null,
            "grid_template_columns": null,
            "grid_template_rows": null,
            "height": null,
            "justify_content": null,
            "justify_items": null,
            "left": null,
            "margin": null,
            "max_height": null,
            "max_width": null,
            "min_height": null,
            "min_width": null,
            "object_fit": null,
            "object_position": null,
            "order": null,
            "overflow": null,
            "overflow_x": null,
            "overflow_y": null,
            "padding": null,
            "right": null,
            "top": null,
            "visibility": null,
            "width": null
          }
        },
        "ab146f68cc294f45ae18c13828ea6461": {
          "model_module": "@jupyter-widgets/controls",
          "model_name": "DescriptionStyleModel",
          "model_module_version": "1.5.0",
          "state": {
            "_model_module": "@jupyter-widgets/controls",
            "_model_module_version": "1.5.0",
            "_model_name": "DescriptionStyleModel",
            "_view_count": null,
            "_view_module": "@jupyter-widgets/base",
            "_view_module_version": "1.2.0",
            "_view_name": "StyleView",
            "description_width": ""
          }
        }
      }
    }
  },
  "cells": [
    {
      "cell_type": "code",
      "execution_count": null,
      "metadata": {
        "id": "CcC7q0Av8f7T"
      },
      "outputs": [],
      "source": [
        "import torch\n",
        "import torch.nn as nn\n",
        "import torchvision.transforms as transforms"
      ]
    },
    {
      "cell_type": "code",
      "source": [
        "# GPU 장치 사용 설정\n",
        "use_cuda = True\n",
        "device = torch.device(\"cuda\" if use_cuda else \"cpu\")"
      ],
      "metadata": {
        "id": "FDuo-0ry8tMp"
      },
      "execution_count": null,
      "outputs": []
    },
    {
      "cell_type": "markdown",
      "source": [
        "### ImageNet 에 정의된 클래스 정보 가져오기"
      ],
      "metadata": {
        "id": "P37vV-UB8_ga"
      }
    },
    {
      "cell_type": "code",
      "source": [
        "from urllib.request import urlretrieve\n",
        "import json\n",
        "\n",
        "imagenet_json, _ = urlretrieve(\"http://www.anishathalye.com/media/2017/07/25/imagenet.json\")\n",
        "with open(imagenet_json) as f:\n",
        "  imagenet_labels = json.load(f)"
      ],
      "metadata": {
        "id": "pQvbmcj-889G"
      },
      "execution_count": null,
      "outputs": []
    },
    {
      "cell_type": "code",
      "source": [
        "print(imagenet_labels[18])"
      ],
      "metadata": {
        "colab": {
          "base_uri": "https://localhost:8080/"
        },
        "id": "fdIVdtwy92M7",
        "outputId": "e9f56e8f-88e8-4035-d17c-89462d66e264"
      },
      "execution_count": null,
      "outputs": [
        {
          "output_type": "stream",
          "name": "stdout",
          "text": [
            "magpie\n"
          ]
        }
      ]
    },
    {
      "cell_type": "markdown",
      "source": [
        "ResNet 은 일반적으로 이미지에 대하여 Resize, CenterCrop ToTensor() 와 입력 데이터 정규화를 사용하는 모델이다."
      ],
      "metadata": {
        "id": "zS1s1Vie-Hen"
      }
    },
    {
      "cell_type": "code",
      "source": [
        "preprocess = transforms.Compose([\n",
        "    transforms.Resize(256),\n",
        "    transforms.CenterCrop(224),\n",
        "    transforms.ToTensor(),\n",
        "])"
      ],
      "metadata": {
        "id": "rJD-M3z899dd"
      },
      "execution_count": null,
      "outputs": []
    },
    {
      "cell_type": "code",
      "source": [
        "import matplotlib.pyplot as plt\n",
        "import PIL"
      ],
      "metadata": {
        "id": "naEw0Gne-jg4"
      },
      "execution_count": null,
      "outputs": []
    },
    {
      "cell_type": "code",
      "source": [
        "# 특정한 경로에서 이미지를 가져와 torch.Tensor 로 변환하는 함수\n",
        "def image_loader(path):\n",
        "  image = PIL.Image.open(path)\n",
        "  # 전처리 이후, 네트워크 입력에 들어갈 이미지에 배치 목적의 차원 추가\n",
        "  image = preprocess(image).unsqueeze(0)"
      ],
      "metadata": {
        "id": "4KU9rd4d-sQh"
      },
      "execution_count": null,
      "outputs": []
    },
    {
      "cell_type": "markdown",
      "source": [
        "pytorch 의 unsqueeze() 함수는 지정한 dimensino 자리에 size 가 1인 빈 공간을 채워주면서 차원을 확장한다. \n",
        "\n",
        "https://jimmy-ai.tistory.com/110"
      ],
      "metadata": {
        "id": "4ZNaY6Pm_f1c"
      }
    },
    {
      "cell_type": "code",
      "source": [
        "# torch.Tensor 형태의 함수를 이미지로 다시 변환하는 함수\n",
        "def imshow(tensor):\n",
        "  # matplotlib 는 CPU 기반이므로 CPU로 옮기기\n",
        "  image = tensor.cpu().clone()\n",
        "  # torch.Tensor 에서 사용되는 배치 목적의 차원 제거\n",
        "  image = image.squeeze(0)\n",
        "  # PIL 객체로 변경\n",
        "  image = transforms.ToPILimage()(image)\n",
        "  plt.imshow(image)"
      ],
      "metadata": {
        "id": "waJId4gNAS05"
      },
      "execution_count": null,
      "outputs": []
    },
    {
      "cell_type": "markdown",
      "source": [
        "### 사전 학습된 모델을 불러와 사용해보기"
      ],
      "metadata": {
        "id": "aK6EiH5zBY2N"
      }
    },
    {
      "cell_type": "code",
      "source": [
        "# 입력 데이터 정규화를 위한 클래스 정의\n",
        "class Normalize(nn.Module):\n",
        "  def __init__(self, mean, std):\n",
        "    super(Normalize, self).__init__()\n",
        "    self.register_buffer('mean', torch.Tensor(mean))\n",
        "    self.register_buffer('std', torch.Tensor(std))\n",
        "\n",
        "  def forward(self, input):\n",
        "    mean = self.mean.reshape(1, 3, 1, 1)\n",
        "    std = self.std.reshape(1, 3, 1, 1)\n",
        "    return (input - mean) / std"
      ],
      "metadata": {
        "id": "VX3l868eBV7U"
      },
      "execution_count": null,
      "outputs": []
    },
    {
      "cell_type": "markdown",
      "source": [
        "위에서 사용된 register_buffer 는 파라미터가 아닌 단순 매개변수로서 사용하기 위한 Module 클래스의 기능이다. GPU에서 사용가능하지만, 최적화에는 관여하지 않는다.\n",
        "\n",
        "https://aigong.tistory.com/429#torch.nn.Module.register_buffer(name,_tensor,_persistent)"
      ],
      "metadata": {
        "id": "N8EKXqB4Cbzi"
      }
    },
    {
      "cell_type": "code",
      "source": [
        "model = nn.Sequential(\n",
        "    # 기본적인 ResNet18과 동일한 동작을 위하여 정규화 레이어 추가\n",
        "    Normalize(mean=[0.485, 0.456, 0.406], std=[0.229, 0.224, 0.225]),\n",
        "    torch.hub.load('pytorch/vision:v0.6.0', 'resnet18', pretrained=True)\n",
        ").to(device).eval()"
      ],
      "metadata": {
        "colab": {
          "base_uri": "https://localhost:8080/",
          "height": 105,
          "referenced_widgets": [
            "e466cb4518894bea9a78b03610d84105",
            "ffc1c94eee854f7b91a933c35474b12b",
            "e2f7d45686334b2dafabb48f807006d7",
            "236d18cad3464143b7a9d2cb214ac88a",
            "0ed408cf117143c29a6380835728e451",
            "fe23a0801d224961b816984551c505a3",
            "6d2efcd551364462803b37f35727a9eb",
            "b8c61c8b8f0c4d5284530fe2ad73c355",
            "eaac7d693af542e2984e3c3e4d91c773",
            "a672530f14f84b7485addd548b278ded",
            "ab146f68cc294f45ae18c13828ea6461"
          ]
        },
        "id": "qDdmAXJeCB69",
        "outputId": "ccc18890-4b3d-434d-b3e3-96d82fbe71e9"
      },
      "execution_count": null,
      "outputs": [
        {
          "output_type": "stream",
          "name": "stderr",
          "text": [
            "Downloading: \"https://github.com/pytorch/vision/archive/v0.6.0.zip\" to /root/.cache/torch/hub/v0.6.0.zip\n",
            "Downloading: \"https://download.pytorch.org/models/resnet18-f37072fd.pth\" to /root/.cache/torch/hub/checkpoints/resnet18-f37072fd.pth\n"
          ]
        },
        {
          "output_type": "display_data",
          "data": {
            "text/plain": [
              "  0%|          | 0.00/44.7M [00:00<?, ?B/s]"
            ],
            "application/vnd.jupyter.widget-view+json": {
              "version_major": 2,
              "version_minor": 0,
              "model_id": "e466cb4518894bea9a78b03610d84105"
            }
          },
          "metadata": {}
        }
      ]
    },
    {
      "cell_type": "markdown",
      "source": [
        "ImageNet 데이터를 다운로드 받지 않은 상태이기 때문에 일단, image 라는 변수로 데이터 하나를 가져왔다고 가정한다."
      ],
      "metadata": {
        "id": "fIjy-Jh3FKYe"
      }
    },
    {
      "cell_type": "code",
      "source": [
        "# 기본적인 이미질르 실제 모델에 넣어 결과 확인\n",
        "outputs = model(image)\n",
        "# 확률을 계산하기 위해 소프트맥스 함수 통과\n",
        "percentages = torch.nn.functional.softmax(outputs, dim=1)[0] * 100\n",
        "# 가장 높은 값을 가지는 5개의 인덱스를 하나씩 확인하며\n",
        "for i in outputs[0].topk(5)[1]:\n",
        "  # 높은 값을 가지는 순서대로 인덱스에 해당하는 클래스 이름과, 확률값 출력\n",
        "  print(f\"인덱스 : {i.item()} / 클래스명 : {imagenet_labels[i]} / 확률 : {round(percentages[i].item(), 4)}%\")"
      ],
      "metadata": {
        "id": "_Eo_qkOUDPMX"
      },
      "execution_count": null,
      "outputs": []
    }
  ]
}